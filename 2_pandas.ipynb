{
 "cells": [
  {
   "cell_type": "markdown",
   "id": "6986ca75-0974-440e-b5b5-0abd62905d13",
   "metadata": {},
   "source": [
    "## **Pandas**\n",
    "* 데이터 전처리, 변수 생성, 데이터 변환\n",
    "* 데이터는 시계열이거나 테이블 형태\n",
    "* 시리즈와 데이터프레임 형태의 자료구조를 사용\n",
    "\n",
    "### **Series, Data Frame**\n",
    "* 시리즈는 배열 형식으로 정의되며, 인덱스와 값으로 구성됨\n",
    "* 데이터 프레임은 시리즈의 집합으로 테이블 형태로 나타냄\n",
    "* 데이터 프레임은 행 인덱스와 열 인덱스로 접근 가능함"
   ]
  },
  {
   "cell_type": "code",
   "execution_count": 1,
   "id": "970cea07-c226-4190-acb6-c8e3da8349a0",
   "metadata": {},
   "outputs": [
    {
     "name": "stdout",
     "output_type": "stream",
     "text": [
      "Requirement already satisfied: pandas in c:\\users\\hyeon\\anaconda3\\lib\\site-packages (2.2.2)\n",
      "Requirement already satisfied: numpy>=1.26.0 in c:\\users\\hyeon\\anaconda3\\lib\\site-packages (from pandas) (1.26.4)\n",
      "Requirement already satisfied: python-dateutil>=2.8.2 in c:\\users\\hyeon\\anaconda3\\lib\\site-packages (from pandas) (2.9.0.post0)\n",
      "Requirement already satisfied: pytz>=2020.1 in c:\\users\\hyeon\\anaconda3\\lib\\site-packages (from pandas) (2024.1)\n",
      "Requirement already satisfied: tzdata>=2022.7 in c:\\users\\hyeon\\anaconda3\\lib\\site-packages (from pandas) (2023.3)\n",
      "Requirement already satisfied: six>=1.5 in c:\\users\\hyeon\\anaconda3\\lib\\site-packages (from python-dateutil>=2.8.2->pandas) (1.16.0)\n"
     ]
    }
   ],
   "source": [
    "!pip install pandas"
   ]
  },
  {
   "cell_type": "code",
   "execution_count": 2,
   "id": "e7fa9d35-f5a2-47d4-aed1-c1af2840596a",
   "metadata": {},
   "outputs": [],
   "source": [
    "import pandas as pd"
   ]
  },
  {
   "cell_type": "markdown",
   "id": "0ee84b84-1fa4-420e-bac0-5b759efedb0b",
   "metadata": {},
   "source": [
    "## **Series 클래스**\n",
    "* 데이터를 인덱스+value로 구성한 자료구조를 시리즈라고 한다.\n",
    "* Dictionary 자료형을 활용 가능하다."
   ]
  },
  {
   "cell_type": "code",
   "execution_count": 6,
   "id": "f83b0b49-30fc-431d-a375-18326ca83ba2",
   "metadata": {},
   "outputs": [
    {
     "name": "stdout",
     "output_type": "stream",
     "text": [
      "0    3\n",
      "1    7\n",
      "2    8\n",
      "3    9\n",
      "dtype: int64\n",
      "---------------------\n",
      "index: RangeIndex(start=0, stop=4, step=1)\n",
      "values: [3 7 8 9]\n"
     ]
    }
   ],
   "source": [
    "pd_sr = pd.Series([3,7,8,9])\n",
    "print(pd_sr)\n",
    "print('---------------------')\n",
    "print('index:',pd_sr.index)\n",
    "print('values:',pd_sr.values)"
   ]
  },
  {
   "cell_type": "markdown",
   "id": "76665577-8ac2-4162-bdd6-ec8268cdbbcc",
   "metadata": {},
   "source": [
    "## **인덱스 설정**"
   ]
  },
  {
   "cell_type": "code",
   "execution_count": 7,
   "id": "13fb9e10-ca56-42a1-aa25-1367225f6a57",
   "metadata": {},
   "outputs": [
    {
     "name": "stdout",
     "output_type": "stream",
     "text": [
      "a    3\n",
      "b    7\n",
      "c    8\n",
      "d    9\n",
      "dtype: int64\n"
     ]
    }
   ],
   "source": [
    "pd_sr = pd.Series([3,7,8,9],index=['a','b','c','d'])\n",
    "print(pd_sr)"
   ]
  },
  {
   "cell_type": "markdown",
   "id": "bb12033e-6a44-44ad-835a-3ecb1dd72b78",
   "metadata": {},
   "source": [
    "## **Dictionary 자료구조 활용**"
   ]
  },
  {
   "cell_type": "code",
   "execution_count": 9,
   "id": "872808ce-a80f-4bec-9a10-dbe9bdff7d4e",
   "metadata": {},
   "outputs": [
    {
     "name": "stdout",
     "output_type": "stream",
     "text": [
      "2016    원숭이\n",
      "2017      닭\n",
      "2018      개\n",
      "2019     돼지\n",
      "2020      쥐\n",
      "2021      소\n",
      "dtype: object\n"
     ]
    }
   ],
   "source": [
    "dc = {2016:'원숭이',2017:'닭',2018:'개',2019:'돼지',2020:'쥐',2021:'소'}\n",
    "dc_sr=pd.Series(dc)\n",
    "print(dc_sr)"
   ]
  },
  {
   "cell_type": "markdown",
   "id": "92339a90-84f4-4400-9db8-a1c3c7e16558",
   "metadata": {},
   "source": [
    "## **Series의 이름 지정 및 index name지정**"
   ]
  },
  {
   "cell_type": "code",
   "execution_count": 10,
   "id": "8b8ff820-b518-4782-9fa0-c91e3db4fb54",
   "metadata": {},
   "outputs": [
    {
     "name": "stdout",
     "output_type": "stream",
     "text": [
      "years\n",
      "2016    원숭이\n",
      "2017      닭\n",
      "2018      개\n",
      "2019     돼지\n",
      "2020      쥐\n",
      "2021      소\n",
      "Name: korean_years, dtype: object\n"
     ]
    }
   ],
   "source": [
    "dc_sr.name = 'korean_years'\n",
    "dc_sr.index.name='years'\n",
    "print(dc_sr)"
   ]
  },
  {
   "cell_type": "markdown",
   "id": "81511a6c-4bb3-4366-9033-cae1501ba633",
   "metadata": {},
   "source": [
    "## **Series 연산**"
   ]
  },
  {
   "cell_type": "code",
   "execution_count": 13,
   "id": "d7582d63-927b-45d1-aa8e-be2a0fa306e3",
   "metadata": {},
   "outputs": [
    {
     "name": "stdout",
     "output_type": "stream",
     "text": [
      "Series 곱:\n",
      " 0     9\n",
      "1    49\n",
      "2    64\n",
      "3    81\n",
      "dtype: int64\n",
      "----------------------\n",
      "Series 합:\n",
      " 0     6\n",
      "1    14\n",
      "2    16\n",
      "3    18\n",
      "dtype: int64\n",
      "----------------------\n",
      "Series 연산:\n",
      " 0   -3\n",
      "1   -7\n",
      "2   -8\n",
      "3   -9\n",
      "dtype: int64\n"
     ]
    }
   ],
   "source": [
    "pd_sr = pd.Series([3,7,8,9])\n",
    "print(\"Series 곱:\\n\", pd_sr*pd_sr)\n",
    "print('----------------------')\n",
    "print(\"Series 합:\\n\", pd_sr+pd_sr)\n",
    "print('----------------------')\n",
    "print(\"Series 연산:\\n\", pd_sr-2*pd_sr)"
   ]
  },
  {
   "cell_type": "markdown",
   "id": "a69f7e94-8522-47c1-9960-4f80dc9489a9",
   "metadata": {},
   "source": [
    "## **Series 인덱스**"
   ]
  },
  {
   "cell_type": "code",
   "execution_count": 16,
   "id": "d7267d01-9b5d-4c4b-abb6-6be7b8485752",
   "metadata": {},
   "outputs": [
    {
     "name": "stdout",
     "output_type": "stream",
     "text": [
      "강원    1142\n",
      "경기    3726\n",
      "서울    8812\n",
      "dtype: int64\n",
      "----------------\n",
      "인덱스 순서: 1142 , 인덱스 값: 1142\n"
     ]
    },
    {
     "name": "stderr",
     "output_type": "stream",
     "text": [
      "C:\\Users\\hyeon\\AppData\\Local\\Temp\\ipykernel_22744\\764068345.py:4: FutureWarning: Series.__getitem__ treating keys as positions is deprecated. In a future version, integer keys will always be treated as labels (consistent with DataFrame behavior). To access a value by position, use `ser.iloc[pos]`\n",
      "  print('인덱스 순서:', city_pop[0], ', 인덱스 값:' , city_pop['강원'])\n"
     ]
    }
   ],
   "source": [
    "city_pop = pd.Series([1142,3726,8812],index=['강원','경기','서울'])\n",
    "print(city_pop)\n",
    "print('----------------')\n",
    "print('인덱스 순서:', city_pop[0], ', 인덱스 값:' , city_pop['강원'])"
   ]
  },
  {
   "cell_type": "markdown",
   "id": "526ec092-3a9e-4d70-9591-04e0f64f1ce0",
   "metadata": {},
   "source": [
    "## **인덱스를 통한 데이터 전처리**"
   ]
  },
  {
   "cell_type": "code",
   "execution_count": 17,
   "id": "dd0a71bc-51f7-4f33-8884-caf89171359e",
   "metadata": {},
   "outputs": [
    {
     "name": "stdout",
     "output_type": "stream",
     "text": [
      "강원    10988\n",
      "경기     3726\n",
      "서울     8812\n",
      "dtype: int64\n"
     ]
    }
   ],
   "source": [
    "city_pop['강원'] = 10988\n",
    "print(city_pop)"
   ]
  },
  {
   "cell_type": "code",
   "execution_count": 19,
   "id": "c674a5da-b782-48f9-b755-be476584ee62",
   "metadata": {},
   "outputs": [
    {
     "name": "stdout",
     "output_type": "stream",
     "text": [
      "강원    10988\n",
      "경기     3726\n",
      "dtype: int64\n"
     ]
    }
   ],
   "source": [
    "del city_pop['서울']\n",
    "print(city_pop)"
   ]
  },
  {
   "cell_type": "markdown",
   "id": "30752355-b6f8-46ff-bf1f-3fbfae22070f",
   "metadata": {},
   "source": [
    "## **데이터 프레임**\n",
    "* Series가 1차원의 벡터 집합이라면, Data Frame은 여러 Series의 집합이다.\n",
    "* Data Frame은 행 인덱스와 열 인덱스 모두를 지정한다.\n",
    "* 2차원 배열의 속성과 함수를 지원한다. "
   ]
  },
  {
   "cell_type": "code",
   "execution_count": 22,
   "id": "440480bd-267b-49bd-8123-1aa3c1687c19",
   "metadata": {},
   "outputs": [
    {
     "data": {
      "text/html": [
       "<div>\n",
       "<style scoped>\n",
       "    .dataframe tbody tr th:only-of-type {\n",
       "        vertical-align: middle;\n",
       "    }\n",
       "\n",
       "    .dataframe tbody tr th {\n",
       "        vertical-align: top;\n",
       "    }\n",
       "\n",
       "    .dataframe thead th {\n",
       "        text-align: right;\n",
       "    }\n",
       "</style>\n",
       "<table border=\"1\" class=\"dataframe\">\n",
       "  <thead>\n",
       "    <tr style=\"text-align: right;\">\n",
       "      <th></th>\n",
       "      <th>name</th>\n",
       "      <th>score</th>\n",
       "      <th>grade</th>\n",
       "    </tr>\n",
       "  </thead>\n",
       "  <tbody>\n",
       "    <tr>\n",
       "      <th>0</th>\n",
       "      <td>kim</td>\n",
       "      <td>73</td>\n",
       "      <td>C</td>\n",
       "    </tr>\n",
       "    <tr>\n",
       "      <th>1</th>\n",
       "      <td>park</td>\n",
       "      <td>99</td>\n",
       "      <td>A</td>\n",
       "    </tr>\n",
       "    <tr>\n",
       "      <th>2</th>\n",
       "      <td>lee</td>\n",
       "      <td>82</td>\n",
       "      <td>B</td>\n",
       "    </tr>\n",
       "    <tr>\n",
       "      <th>3</th>\n",
       "      <td>choi</td>\n",
       "      <td>45</td>\n",
       "      <td>F</td>\n",
       "    </tr>\n",
       "  </tbody>\n",
       "</table>\n",
       "</div>"
      ],
      "text/plain": [
       "   name  score grade\n",
       "0   kim     73     C\n",
       "1  park     99     A\n",
       "2   lee     82     B\n",
       "3  choi     45     F"
      ]
     },
     "execution_count": 22,
     "metadata": {},
     "output_type": "execute_result"
    }
   ],
   "source": [
    "dc = {\n",
    "    'name': ['kim','park','lee','choi'],\n",
    "    'score':[73,99,82,45],\n",
    "    'grade': ['C','A','B','F']\n",
    "}\n",
    "df_score=pd.DataFrame(dc)\n",
    "df_score"
   ]
  },
  {
   "cell_type": "markdown",
   "id": "42d03f15-f87d-4391-8544-b2398e911bb1",
   "metadata": {},
   "source": [
    "## **DF의 컬럼 추가**"
   ]
  },
  {
   "cell_type": "markdown",
   "id": "9f1121b6-3c68-4d5d-8779-941fa5923b4c",
   "metadata": {},
   "source": [
    "df_score.columns"
   ]
  },
  {
   "cell_type": "code",
   "execution_count": 26,
   "id": "4e9688de-a6d2-4ae2-b3c6-b4501ab5ceb3",
   "metadata": {},
   "outputs": [
    {
     "data": {
      "text/html": [
       "<div>\n",
       "<style scoped>\n",
       "    .dataframe tbody tr th:only-of-type {\n",
       "        vertical-align: middle;\n",
       "    }\n",
       "\n",
       "    .dataframe tbody tr th {\n",
       "        vertical-align: top;\n",
       "    }\n",
       "\n",
       "    .dataframe thead th {\n",
       "        text-align: right;\n",
       "    }\n",
       "</style>\n",
       "<table border=\"1\" class=\"dataframe\">\n",
       "  <thead>\n",
       "    <tr style=\"text-align: right;\">\n",
       "      <th></th>\n",
       "      <th>name</th>\n",
       "      <th>score</th>\n",
       "      <th>grade</th>\n",
       "      <th>answer</th>\n",
       "    </tr>\n",
       "  </thead>\n",
       "  <tbody>\n",
       "    <tr>\n",
       "      <th>0</th>\n",
       "      <td>kim</td>\n",
       "      <td>73</td>\n",
       "      <td>C</td>\n",
       "      <td>Y</td>\n",
       "    </tr>\n",
       "    <tr>\n",
       "      <th>1</th>\n",
       "      <td>park</td>\n",
       "      <td>99</td>\n",
       "      <td>A</td>\n",
       "      <td>N</td>\n",
       "    </tr>\n",
       "    <tr>\n",
       "      <th>2</th>\n",
       "      <td>lee</td>\n",
       "      <td>82</td>\n",
       "      <td>B</td>\n",
       "      <td>N</td>\n",
       "    </tr>\n",
       "    <tr>\n",
       "      <th>3</th>\n",
       "      <td>choi</td>\n",
       "      <td>45</td>\n",
       "      <td>F</td>\n",
       "      <td>Y</td>\n",
       "    </tr>\n",
       "  </tbody>\n",
       "</table>\n",
       "</div>"
      ],
      "text/plain": [
       "   name  score grade answer\n",
       "0   kim     73     C      Y\n",
       "1  park     99     A      N\n",
       "2   lee     82     B      N\n",
       "3  choi     45     F      Y"
      ]
     },
     "execution_count": 26,
     "metadata": {},
     "output_type": "execute_result"
    }
   ],
   "source": [
    "df_score['answer']=['Y','N','N','Y']\n",
    "df_score"
   ]
  },
  {
   "cell_type": "code",
   "execution_count": 28,
   "id": "bb107934-e5b7-4b1b-b17f-e2a07c9a2264",
   "metadata": {},
   "outputs": [
    {
     "data": {
      "text/html": [
       "<div>\n",
       "<style scoped>\n",
       "    .dataframe tbody tr th:only-of-type {\n",
       "        vertical-align: middle;\n",
       "    }\n",
       "\n",
       "    .dataframe tbody tr th {\n",
       "        vertical-align: top;\n",
       "    }\n",
       "\n",
       "    .dataframe thead th {\n",
       "        text-align: right;\n",
       "    }\n",
       "</style>\n",
       "<table border=\"1\" class=\"dataframe\">\n",
       "  <thead>\n",
       "    <tr style=\"text-align: right;\">\n",
       "      <th></th>\n",
       "      <th>name</th>\n",
       "      <th>score</th>\n",
       "      <th>grade</th>\n",
       "      <th>answer</th>\n",
       "      <th>aaa</th>\n",
       "    </tr>\n",
       "  </thead>\n",
       "  <tbody>\n",
       "    <tr>\n",
       "      <th>0</th>\n",
       "      <td>kim</td>\n",
       "      <td>73</td>\n",
       "      <td>C</td>\n",
       "      <td>Y</td>\n",
       "      <td></td>\n",
       "    </tr>\n",
       "    <tr>\n",
       "      <th>1</th>\n",
       "      <td>park</td>\n",
       "      <td>99</td>\n",
       "      <td>A</td>\n",
       "      <td>N</td>\n",
       "      <td></td>\n",
       "    </tr>\n",
       "    <tr>\n",
       "      <th>2</th>\n",
       "      <td>lee</td>\n",
       "      <td>82</td>\n",
       "      <td>B</td>\n",
       "      <td>N</td>\n",
       "      <td></td>\n",
       "    </tr>\n",
       "    <tr>\n",
       "      <th>3</th>\n",
       "      <td>choi</td>\n",
       "      <td>45</td>\n",
       "      <td>F</td>\n",
       "      <td>Y</td>\n",
       "      <td></td>\n",
       "    </tr>\n",
       "  </tbody>\n",
       "</table>\n",
       "</div>"
      ],
      "text/plain": [
       "   name  score grade answer aaa\n",
       "0   kim     73     C      Y    \n",
       "1  park     99     A      N    \n",
       "2   lee     82     B      N    \n",
       "3  choi     45     F      Y    "
      ]
     },
     "execution_count": 28,
     "metadata": {},
     "output_type": "execute_result"
    }
   ],
   "source": [
    "#빈컬럼 생성\n",
    "df_score['aaa']=''\n",
    "df_score"
   ]
  },
  {
   "cell_type": "markdown",
   "id": "10301fed-ec40-4b9a-b7fb-ac73fcb3da8b",
   "metadata": {},
   "source": [
    "## **특정 컬럼만 조회**"
   ]
  },
  {
   "cell_type": "code",
   "execution_count": 29,
   "id": "01609f89-4b56-44ee-858e-2f62869e7d4a",
   "metadata": {},
   "outputs": [
    {
     "data": {
      "text/html": [
       "<div>\n",
       "<style scoped>\n",
       "    .dataframe tbody tr th:only-of-type {\n",
       "        vertical-align: middle;\n",
       "    }\n",
       "\n",
       "    .dataframe tbody tr th {\n",
       "        vertical-align: top;\n",
       "    }\n",
       "\n",
       "    .dataframe thead th {\n",
       "        text-align: right;\n",
       "    }\n",
       "</style>\n",
       "<table border=\"1\" class=\"dataframe\">\n",
       "  <thead>\n",
       "    <tr style=\"text-align: right;\">\n",
       "      <th></th>\n",
       "      <th>name</th>\n",
       "    </tr>\n",
       "  </thead>\n",
       "  <tbody>\n",
       "    <tr>\n",
       "      <th>0</th>\n",
       "      <td>kim</td>\n",
       "    </tr>\n",
       "    <tr>\n",
       "      <th>1</th>\n",
       "      <td>park</td>\n",
       "    </tr>\n",
       "    <tr>\n",
       "      <th>2</th>\n",
       "      <td>lee</td>\n",
       "    </tr>\n",
       "    <tr>\n",
       "      <th>3</th>\n",
       "      <td>choi</td>\n",
       "    </tr>\n",
       "  </tbody>\n",
       "</table>\n",
       "</div>"
      ],
      "text/plain": [
       "   name\n",
       "0   kim\n",
       "1  park\n",
       "2   lee\n",
       "3  choi"
      ]
     },
     "execution_count": 29,
     "metadata": {},
     "output_type": "execute_result"
    }
   ],
   "source": [
    "df_score[['name']]"
   ]
  },
  {
   "cell_type": "markdown",
   "id": "c87a0fa1-aab8-433a-b038-ea13dfac4a76",
   "metadata": {},
   "source": [
    "## **특정 Column의 값 변경**"
   ]
  },
  {
   "cell_type": "code",
   "execution_count": 30,
   "id": "5035e6e4-38d5-4bf4-8cf1-74d29a10ac27",
   "metadata": {},
   "outputs": [
    {
     "data": {
      "text/html": [
       "<div>\n",
       "<style scoped>\n",
       "    .dataframe tbody tr th:only-of-type {\n",
       "        vertical-align: middle;\n",
       "    }\n",
       "\n",
       "    .dataframe tbody tr th {\n",
       "        vertical-align: top;\n",
       "    }\n",
       "\n",
       "    .dataframe thead th {\n",
       "        text-align: right;\n",
       "    }\n",
       "</style>\n",
       "<table border=\"1\" class=\"dataframe\">\n",
       "  <thead>\n",
       "    <tr style=\"text-align: right;\">\n",
       "      <th></th>\n",
       "      <th>name</th>\n",
       "      <th>score</th>\n",
       "      <th>grade</th>\n",
       "      <th>answer</th>\n",
       "      <th>aaa</th>\n",
       "    </tr>\n",
       "  </thead>\n",
       "  <tbody>\n",
       "    <tr>\n",
       "      <th>0</th>\n",
       "      <td>kim</td>\n",
       "      <td>100</td>\n",
       "      <td>C</td>\n",
       "      <td>Y</td>\n",
       "      <td></td>\n",
       "    </tr>\n",
       "    <tr>\n",
       "      <th>1</th>\n",
       "      <td>park</td>\n",
       "      <td>100</td>\n",
       "      <td>A</td>\n",
       "      <td>N</td>\n",
       "      <td></td>\n",
       "    </tr>\n",
       "    <tr>\n",
       "      <th>2</th>\n",
       "      <td>lee</td>\n",
       "      <td>100</td>\n",
       "      <td>B</td>\n",
       "      <td>N</td>\n",
       "      <td></td>\n",
       "    </tr>\n",
       "    <tr>\n",
       "      <th>3</th>\n",
       "      <td>choi</td>\n",
       "      <td>100</td>\n",
       "      <td>F</td>\n",
       "      <td>Y</td>\n",
       "      <td></td>\n",
       "    </tr>\n",
       "  </tbody>\n",
       "</table>\n",
       "</div>"
      ],
      "text/plain": [
       "   name  score grade answer aaa\n",
       "0   kim    100     C      Y    \n",
       "1  park    100     A      N    \n",
       "2   lee    100     B      N    \n",
       "3  choi    100     F      Y    "
      ]
     },
     "execution_count": 30,
     "metadata": {},
     "output_type": "execute_result"
    }
   ],
   "source": [
    "df_score['score']=100\n",
    "df_score"
   ]
  },
  {
   "cell_type": "markdown",
   "id": "c56bb8d8-f712-48eb-86bf-cf40f9d3720a",
   "metadata": {},
   "source": [
    "## **컬럼 삭제**"
   ]
  },
  {
   "cell_type": "code",
   "execution_count": 32,
   "id": "549222fe-437b-4246-8822-457eb0525c99",
   "metadata": {},
   "outputs": [
    {
     "data": {
      "text/html": [
       "<div>\n",
       "<style scoped>\n",
       "    .dataframe tbody tr th:only-of-type {\n",
       "        vertical-align: middle;\n",
       "    }\n",
       "\n",
       "    .dataframe tbody tr th {\n",
       "        vertical-align: top;\n",
       "    }\n",
       "\n",
       "    .dataframe thead th {\n",
       "        text-align: right;\n",
       "    }\n",
       "</style>\n",
       "<table border=\"1\" class=\"dataframe\">\n",
       "  <thead>\n",
       "    <tr style=\"text-align: right;\">\n",
       "      <th></th>\n",
       "      <th>name</th>\n",
       "      <th>score</th>\n",
       "      <th>answer</th>\n",
       "      <th>aaa</th>\n",
       "    </tr>\n",
       "  </thead>\n",
       "  <tbody>\n",
       "    <tr>\n",
       "      <th>0</th>\n",
       "      <td>kim</td>\n",
       "      <td>100</td>\n",
       "      <td>Y</td>\n",
       "      <td></td>\n",
       "    </tr>\n",
       "    <tr>\n",
       "      <th>1</th>\n",
       "      <td>park</td>\n",
       "      <td>100</td>\n",
       "      <td>N</td>\n",
       "      <td></td>\n",
       "    </tr>\n",
       "    <tr>\n",
       "      <th>2</th>\n",
       "      <td>lee</td>\n",
       "      <td>100</td>\n",
       "      <td>N</td>\n",
       "      <td></td>\n",
       "    </tr>\n",
       "    <tr>\n",
       "      <th>3</th>\n",
       "      <td>choi</td>\n",
       "      <td>100</td>\n",
       "      <td>Y</td>\n",
       "      <td></td>\n",
       "    </tr>\n",
       "  </tbody>\n",
       "</table>\n",
       "</div>"
      ],
      "text/plain": [
       "   name  score answer aaa\n",
       "0   kim    100      Y    \n",
       "1  park    100      N    \n",
       "2   lee    100      N    \n",
       "3  choi    100      Y    "
      ]
     },
     "execution_count": 32,
     "metadata": {},
     "output_type": "execute_result"
    }
   ],
   "source": [
    "del df_score['grade']\n",
    "df_score"
   ]
  },
  {
   "cell_type": "markdown",
   "id": "bc9c4cda-0369-4416-81ee-5abdf63758e3",
   "metadata": {},
   "source": [
    "## **numpy와 df연계**"
   ]
  },
  {
   "cell_type": "code",
   "execution_count": 34,
   "id": "6b6e3243-e200-4d12-9719-0a5d59019bcd",
   "metadata": {},
   "outputs": [],
   "source": [
    "import numpy as np"
   ]
  },
  {
   "cell_type": "code",
   "execution_count": 35,
   "id": "4f891b41-d5c7-4365-99d4-42e97eafad10",
   "metadata": {},
   "outputs": [
    {
     "data": {
      "text/html": [
       "<div>\n",
       "<style scoped>\n",
       "    .dataframe tbody tr th:only-of-type {\n",
       "        vertical-align: middle;\n",
       "    }\n",
       "\n",
       "    .dataframe tbody tr th {\n",
       "        vertical-align: top;\n",
       "    }\n",
       "\n",
       "    .dataframe thead th {\n",
       "        text-align: right;\n",
       "    }\n",
       "</style>\n",
       "<table border=\"1\" class=\"dataframe\">\n",
       "  <thead>\n",
       "    <tr style=\"text-align: right;\">\n",
       "      <th></th>\n",
       "      <th>name</th>\n",
       "      <th>score</th>\n",
       "      <th>answer</th>\n",
       "      <th>aaa</th>\n",
       "      <th>number</th>\n",
       "    </tr>\n",
       "  </thead>\n",
       "  <tbody>\n",
       "    <tr>\n",
       "      <th>0</th>\n",
       "      <td>kim</td>\n",
       "      <td>100</td>\n",
       "      <td>Y</td>\n",
       "      <td></td>\n",
       "      <td>100.0</td>\n",
       "    </tr>\n",
       "    <tr>\n",
       "      <th>1</th>\n",
       "      <td>park</td>\n",
       "      <td>100</td>\n",
       "      <td>N</td>\n",
       "      <td></td>\n",
       "      <td>100.0</td>\n",
       "    </tr>\n",
       "    <tr>\n",
       "      <th>2</th>\n",
       "      <td>lee</td>\n",
       "      <td>100</td>\n",
       "      <td>N</td>\n",
       "      <td></td>\n",
       "      <td>100.0</td>\n",
       "    </tr>\n",
       "    <tr>\n",
       "      <th>3</th>\n",
       "      <td>choi</td>\n",
       "      <td>100</td>\n",
       "      <td>Y</td>\n",
       "      <td></td>\n",
       "      <td>100.0</td>\n",
       "    </tr>\n",
       "  </tbody>\n",
       "</table>\n",
       "</div>"
      ],
      "text/plain": [
       "   name  score answer aaa  number\n",
       "0   kim    100      Y       100.0\n",
       "1  park    100      N       100.0\n",
       "2   lee    100      N       100.0\n",
       "3  choi    100      Y       100.0"
      ]
     },
     "execution_count": 35,
     "metadata": {},
     "output_type": "execute_result"
    }
   ],
   "source": [
    "df_score['number'] = np.mean(df_score['score'])\n",
    "df_score"
   ]
  },
  {
   "cell_type": "code",
   "execution_count": 36,
   "id": "5066fbcb-3aac-41db-8b9a-ca245a22e79e",
   "metadata": {},
   "outputs": [
    {
     "data": {
      "text/html": [
       "<div>\n",
       "<style scoped>\n",
       "    .dataframe tbody tr th:only-of-type {\n",
       "        vertical-align: middle;\n",
       "    }\n",
       "\n",
       "    .dataframe tbody tr th {\n",
       "        vertical-align: top;\n",
       "    }\n",
       "\n",
       "    .dataframe thead th {\n",
       "        text-align: right;\n",
       "    }\n",
       "</style>\n",
       "<table border=\"1\" class=\"dataframe\">\n",
       "  <thead>\n",
       "    <tr style=\"text-align: right;\">\n",
       "      <th></th>\n",
       "      <th>name</th>\n",
       "      <th>score</th>\n",
       "      <th>answer</th>\n",
       "      <th>aaa</th>\n",
       "      <th>number</th>\n",
       "      <th>new_column</th>\n",
       "    </tr>\n",
       "  </thead>\n",
       "  <tbody>\n",
       "    <tr>\n",
       "      <th>0</th>\n",
       "      <td>kim</td>\n",
       "      <td>100</td>\n",
       "      <td>Y</td>\n",
       "      <td></td>\n",
       "      <td>100.0</td>\n",
       "      <td>good</td>\n",
       "    </tr>\n",
       "    <tr>\n",
       "      <th>1</th>\n",
       "      <td>park</td>\n",
       "      <td>100</td>\n",
       "      <td>N</td>\n",
       "      <td></td>\n",
       "      <td>100.0</td>\n",
       "      <td>NaN</td>\n",
       "    </tr>\n",
       "    <tr>\n",
       "      <th>2</th>\n",
       "      <td>lee</td>\n",
       "      <td>100</td>\n",
       "      <td>N</td>\n",
       "      <td></td>\n",
       "      <td>100.0</td>\n",
       "      <td>good</td>\n",
       "    </tr>\n",
       "    <tr>\n",
       "      <th>3</th>\n",
       "      <td>choi</td>\n",
       "      <td>100</td>\n",
       "      <td>Y</td>\n",
       "      <td></td>\n",
       "      <td>100.0</td>\n",
       "      <td>bad</td>\n",
       "    </tr>\n",
       "  </tbody>\n",
       "</table>\n",
       "</div>"
      ],
      "text/plain": [
       "   name  score answer aaa  number new_column\n",
       "0   kim    100      Y       100.0       good\n",
       "1  park    100      N       100.0        NaN\n",
       "2   lee    100      N       100.0       good\n",
       "3  choi    100      Y       100.0        bad"
      ]
     },
     "execution_count": 36,
     "metadata": {},
     "output_type": "execute_result"
    }
   ],
   "source": [
    "df_score['new_column']=pd.Series(['good','good','bad'],index=[0,2,3])\n",
    "df_score"
   ]
  }
 ],
 "metadata": {
  "kernelspec": {
   "display_name": "Python 3 (ipykernel)",
   "language": "python",
   "name": "python3"
  },
  "language_info": {
   "codemirror_mode": {
    "name": "ipython",
    "version": 3
   },
   "file_extension": ".py",
   "mimetype": "text/x-python",
   "name": "python",
   "nbconvert_exporter": "python",
   "pygments_lexer": "ipython3",
   "version": "3.12.7"
  }
 },
 "nbformat": 4,
 "nbformat_minor": 5
}
