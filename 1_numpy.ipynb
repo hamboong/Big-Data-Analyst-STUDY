{
 "cells": [
  {
   "cell_type": "markdown",
   "id": "b219aa42-c982-4667-a3db-19d0dae5d960",
   "metadata": {},
   "source": [
    "# **NUMPY**"
   ]
  },
  {
   "cell_type": "code",
   "execution_count": 1,
   "id": "cf32763a-1d3e-4b0f-8297-62cdc9e0d215",
   "metadata": {},
   "outputs": [
    {
     "name": "stdout",
     "output_type": "stream",
     "text": [
      "Requirement already satisfied: numpy in c:\\users\\hyeon\\anaconda3\\lib\\site-packages (1.26.4)\n"
     ]
    }
   ],
   "source": [
    "!pip install numpy"
   ]
  },
  {
   "cell_type": "code",
   "execution_count": 2,
   "id": "22325657-ecc4-476e-aa8d-0a9bb6ad68f6",
   "metadata": {},
   "outputs": [],
   "source": [
    "import numpy as np"
   ]
  },
  {
   "cell_type": "code",
   "execution_count": 3,
   "id": "b165c486-ed54-44d4-a23d-a9a78f8f4f28",
   "metadata": {},
   "outputs": [
    {
     "name": "stdout",
     "output_type": "stream",
     "text": [
      "[0 1 2 3 4]\n",
      "[0, 1, 2, 3, 4]\n"
     ]
    }
   ],
   "source": [
    "arr = np.array([0,1,2,3,4])\n",
    "print(arr)\n",
    "ls=[0,1,2,3,4]\n",
    "print(ls)"
   ]
  },
  {
   "cell_type": "code",
   "execution_count": 4,
   "id": "b01d1bfc-5ba0-4768-aac9-82fbdc84b15a",
   "metadata": {},
   "outputs": [
    {
     "name": "stdout",
     "output_type": "stream",
     "text": [
      "[0 1 2 3 4]\n"
     ]
    }
   ],
   "source": [
    "ls = [0,1,2,3,4]\n",
    "arr = np.array(ls)\n",
    "print(arr)"
   ]
  },
  {
   "cell_type": "code",
   "execution_count": 5,
   "id": "5803767e-c014-4ffc-a84a-88232e8e15a9",
   "metadata": {},
   "outputs": [
    {
     "data": {
      "text/plain": [
       "numpy.ndarray"
      ]
     },
     "execution_count": 5,
     "metadata": {},
     "output_type": "execute_result"
    }
   ],
   "source": [
    "type(arr)"
   ]
  },
  {
   "cell_type": "code",
   "execution_count": 6,
   "id": "02c608f7-4eae-42cf-b2d9-e0b816e616e0",
   "metadata": {},
   "outputs": [
    {
     "name": "stdout",
     "output_type": "stream",
     "text": [
      "(5,)\n",
      "int32\n"
     ]
    }
   ],
   "source": [
    "#array의 크기 확인 \n",
    "print(arr.shape)\n",
    "print(arr.dtype) #datatype"
   ]
  },
  {
   "cell_type": "markdown",
   "id": "d9054800-ef91-4c5b-8b15-d033de54a5df",
   "metadata": {},
   "source": [
    "## **배열의 사칙연산**"
   ]
  },
  {
   "cell_type": "code",
   "execution_count": 7,
   "id": "fec31d93-f0b1-47b1-b4cb-0c4cd3cd899e",
   "metadata": {},
   "outputs": [
    {
     "name": "stdout",
     "output_type": "stream",
     "text": [
      "[0 1 2 3 4]\n",
      "\n",
      "arr+2:\n",
      " [2 3 4 5 6]\n",
      "\n",
      "arr-2:\n",
      " [-2 -1  0  1  2]\n",
      "\n",
      "arr*2:\n",
      " [0 2 4 6 8]\n",
      "\n",
      "arr//2:\n",
      " [0 0 1 1 2]\n"
     ]
    }
   ],
   "source": [
    "print(arr)\n",
    "print(\"\\narr+2:\\n\", arr+2)\n",
    "print(\"\\narr-2:\\n\", arr-2)\n",
    "print(\"\\narr*2:\\n\", arr*2)\n",
    "print(\"\\narr//2:\\n\", arr//2)"
   ]
  },
  {
   "cell_type": "markdown",
   "id": "fc28f190-5f08-4280-8a04-e49dddfcbde6",
   "metadata": {},
   "source": [
    "## **배열의 활용**"
   ]
  },
  {
   "cell_type": "code",
   "execution_count": 8,
   "id": "a4679d69-355a-4184-bb9c-e6ce4d838b02",
   "metadata": {},
   "outputs": [
    {
     "name": "stdout",
     "output_type": "stream",
     "text": [
      "[12 24 36]\n"
     ]
    }
   ],
   "source": [
    "arr_small = np.array([1,2,3])\n",
    "arr_big = np.array([10,20,30])\n",
    "print(2*arr_small + arr_big)"
   ]
  },
  {
   "cell_type": "code",
   "execution_count": 9,
   "id": "0bcf594a-33c4-4aee-9136-4607c7afda2b",
   "metadata": {},
   "outputs": [
    {
     "name": "stdout",
     "output_type": "stream",
     "text": [
      "[False  True False]\n",
      "[False  True  True]\n",
      "[False  True  True]\n"
     ]
    }
   ],
   "source": [
    "#조건 연산\n",
    "print(arr_small == 2)\n",
    "print(arr_big > 10)\n",
    "print((arr_small==2) | (arr_big>20))"
   ]
  },
  {
   "cell_type": "code",
   "execution_count": 10,
   "id": "d75352ee-1a3b-4239-8048-c57dd11d5c8b",
   "metadata": {},
   "outputs": [
    {
     "data": {
      "text/plain": [
       "array([0, 2, 4, 6])"
      ]
     },
     "execution_count": 10,
     "metadata": {},
     "output_type": "execute_result"
    }
   ],
   "source": [
    "ls = [0,1,2,3,4,5,6]\n",
    "arr = np.array(ls)\n",
    "arr[arr%2 == 0]"
   ]
  },
  {
   "cell_type": "code",
   "execution_count": 11,
   "id": "ce044afa-584a-40f8-b9aa-3822b5083a0f",
   "metadata": {},
   "outputs": [
    {
     "data": {
      "text/plain": [
       "(7,)"
      ]
     },
     "execution_count": 11,
     "metadata": {},
     "output_type": "execute_result"
    }
   ],
   "source": [
    "arr.shape"
   ]
  },
  {
   "cell_type": "code",
   "execution_count": 12,
   "id": "359e075f-879d-4f75-8b03-80d268a2e202",
   "metadata": {},
   "outputs": [
    {
     "name": "stdout",
     "output_type": "stream",
     "text": [
      "(2, 3)\n",
      "[[0 1 2]\n",
      " [3 4 5]]\n"
     ]
    }
   ],
   "source": [
    "#2차원 배열 선언\n",
    "arr_double = np.array([[0,1,2],[3,4,5]])\n",
    "print(arr_double.shape)\n",
    "print(arr_double)"
   ]
  },
  {
   "cell_type": "code",
   "execution_count": 13,
   "id": "7bc29eb2-fd22-476e-8f7d-83ef99b1bac0",
   "metadata": {},
   "outputs": [
    {
     "name": "stdout",
     "output_type": "stream",
     "text": [
      "2\n",
      "3\n"
     ]
    }
   ],
   "source": [
    "print(len(arr_double))\n",
    "print(len(arr_double[0])) # 첫번째 행 길이"
   ]
  },
  {
   "cell_type": "code",
   "execution_count": 14,
   "id": "7f845cca-61fd-4173-9b2e-3e4d3c0f49a9",
   "metadata": {},
   "outputs": [
    {
     "name": "stdout",
     "output_type": "stream",
     "text": [
      "(2, 2, 3)\n",
      "[[[ 1  2  3]\n",
      "  [ 4  5  6]]\n",
      "\n",
      " [[10 20 30]\n",
      "  [40 50 60]]]\n"
     ]
    }
   ],
   "source": [
    "#3차원 배열 선언\n",
    "arr = [[1,2,3],[4,5,6]],[[10,20,30],[40,50,60]]\n",
    "arr_triple = np.array(arr)\n",
    "print(arr_triple.shape)\n",
    "print(arr_triple)"
   ]
  },
  {
   "cell_type": "markdown",
   "id": "1a2afef9-aba1-4f38-bd62-8e13e8196b9e",
   "metadata": {},
   "source": [
    "## **numpy 함수**\n",
    "* zeros : 0의 원소를 갖는 배열 생성\n",
    "* ones : 1의 원소를 갖는 배열 생성\n",
    "* arange : range와 같이 특정 수열 생성\n",
    "* T(transpose) : 행렬의 전치 행렬 생성 (행 열 변환)\n",
    "* reshape : range와 같이 특정 수열 생성"
   ]
  },
  {
   "cell_type": "code",
   "execution_count": 19,
   "id": "95629c3a-6b65-482f-b7a7-db2290421035",
   "metadata": {},
   "outputs": [
    {
     "name": "stdout",
     "output_type": "stream",
     "text": [
      "[[0 0 0 0 0]\n",
      " [0 0 0 0 0]]\n"
     ]
    }
   ],
   "source": [
    "arr_zeros = np.zeros((2,5),dtype='i')\n",
    "print(arr_zeros)"
   ]
  },
  {
   "cell_type": "code",
   "execution_count": 20,
   "id": "dddd515c-0c5b-41ea-bacd-bd028018d83c",
   "metadata": {},
   "outputs": [
    {
     "name": "stdout",
     "output_type": "stream",
     "text": [
      "[[[1 1 1 1 1]\n",
      "  [1 1 1 1 1]]\n",
      "\n",
      " [[1 1 1 1 1]\n",
      "  [1 1 1 1 1]]\n",
      "\n",
      " [[1 1 1 1 1]\n",
      "  [1 1 1 1 1]]]\n"
     ]
    }
   ],
   "source": [
    "arr_ones = np.ones((3,2,5),dtype='i')\n",
    "print(arr_ones)"
   ]
  },
  {
   "cell_type": "code",
   "execution_count": 21,
   "id": "30ac9cec-f1a2-4f22-bdaf-fb1e8984f31c",
   "metadata": {},
   "outputs": [
    {
     "name": "stdout",
     "output_type": "stream",
     "text": [
      "[0 1 2 3 4 5 6 7 8 9]\n",
      "-------------------\n",
      "[ 1  3  5  7  9 11 13]\n"
     ]
    }
   ],
   "source": [
    "print(np.arange(10))\n",
    "print('-------------------')\n",
    "print(np.arange(1,15,2))"
   ]
  },
  {
   "cell_type": "markdown",
   "id": "07fb1ecc-a062-444f-8d30-0bb0bcbd1a54",
   "metadata": {},
   "source": [
    "## **transpose**"
   ]
  },
  {
   "cell_type": "code",
   "execution_count": 23,
   "id": "86eae807-4446-4fc6-80e2-e8aead960dae",
   "metadata": {},
   "outputs": [
    {
     "name": "stdout",
     "output_type": "stream",
     "text": [
      "[[1 2 3]\n",
      " [4 5 6]]\n",
      "________\n",
      "[[1 4]\n",
      " [2 5]\n",
      " [3 6]]\n"
     ]
    }
   ],
   "source": [
    "arr = np.array([[1,2,3],[4,5,6]]) #2*3행렬 생성\n",
    "print(arr)\n",
    "print('________')\n",
    "arr_t = arr.T # 3*2행렬\n",
    "print(arr_t)"
   ]
  },
  {
   "cell_type": "markdown",
   "id": "f018fd26-6116-4287-9a48-ecbf343f0520",
   "metadata": {},
   "source": [
    "## **reshape**"
   ]
  },
  {
   "cell_type": "code",
   "execution_count": 25,
   "id": "33c31dd6-dc1e-431b-86fe-1fedb396df9e",
   "metadata": {},
   "outputs": [
    {
     "name": "stdout",
     "output_type": "stream",
     "text": [
      "[0 1 2 3 4 5 6 7]\n",
      "shape: (8,)\n",
      "-----------------\n",
      "[[0 1 2 3]\n",
      " [4 5 6 7]]\n",
      "shape: (2, 4)\n"
     ]
    }
   ],
   "source": [
    "arr = np.arange(8)\n",
    "print(arr)\n",
    "print(\"shape:\", arr.shape)\n",
    "print('-----------------')\n",
    "arr_r = arr.reshape(2,4)\n",
    "print(arr_r)\n",
    "print(\"shape:\", arr_r.shape)"
   ]
  },
  {
   "cell_type": "markdown",
   "id": "36c62028-56a5-4e7d-8a92-49dbb50e483a",
   "metadata": {},
   "source": [
    "## **numpy연산**\n",
    "* exp : 지수 함수 적용\n",
    "* log : 로그 함수 적용\n",
    "* ** : 벡터의 거듭제곱"
   ]
  },
  {
   "cell_type": "code",
   "execution_count": 27,
   "id": "188e8f9e-af00-444e-8c6a-88427b05af87",
   "metadata": {},
   "outputs": [
    {
     "name": "stdout",
     "output_type": "stream",
     "text": [
      "기본 배열 : [1 2 3 4 5]\n",
      "지수함수 적용 : [  2.71828183   7.3890561   20.08553692  54.59815003 148.4131591 ]\n",
      "로그함수 적용 : [0.         0.69314718 1.09861229 1.38629436 1.60943791]\n",
      "거듭제곱 적용 : [    10    100   1000  10000 100000]\n"
     ]
    }
   ],
   "source": [
    "arr = np.arange(1,6)\n",
    "print(\"기본 배열 :\", arr)\n",
    "print(\"지수함수 적용 :\", np.exp(arr) )\n",
    "print(\"로그함수 적용 :\", np.log(arr))\n",
    "print(\"거듭제곱 적용 :\", 10**arr)"
   ]
  },
  {
   "cell_type": "markdown",
   "id": "4e54286a-c351-4ab5-a4bd-af6c6e10044e",
   "metadata": {},
   "source": [
    "## **Broad Casting**\n",
    "* 벡터 연산 시 두 벡터 크기가 같아야함\n",
    "* 서로 다른 크기의 배열 연산은 **브로드캐스팅**을 통해, 크기가 작은 배열을 반복 확장하여 크기가 큰 배열에 맞춰줌"
   ]
  },
  {
   "cell_type": "code",
   "execution_count": 30,
   "id": "da7d67d2-7c51-4b0e-b5cd-dd48514eaa78",
   "metadata": {},
   "outputs": [
    {
     "name": "stdout",
     "output_type": "stream",
     "text": [
      "arr: \n",
      " [[ 0  1  2  3]\n",
      " [ 4  5  6  7]\n",
      " [ 8  9 10 11]]\n",
      "\n",
      "arr_sub:  [1 1 1 1]\n",
      "---------------\n",
      "[[ 1  2  3  4]\n",
      " [ 5  6  7  8]\n",
      " [ 9 10 11 12]]\n"
     ]
    }
   ],
   "source": [
    "arr = np.arange(12).reshape(3,4)\n",
    "arr_sub = np.ones(4, dtype = 'i')\n",
    "print('arr: \\n', arr)\n",
    "print('\\narr_sub: ',arr_sub)\n",
    "print('---------------')\n",
    "print(arr+arr_sub)"
   ]
  },
  {
   "cell_type": "markdown",
   "id": "5488a7a1-7d0d-4895-901b-8f6513add0cb",
   "metadata": {},
   "source": [
    "## **배열의 기초통계량 (axis = 1: 행 기준, axis = 0 : 열 기준)**\n",
    "* mean : 배열의 평균\n",
    "* sum : 배열의 합\n",
    "* var : 배열의 분산\n",
    "* std : 배열의 표준편차\n",
    "* max : 특정 인덱스 항목 삭제\n",
    "* min : 특정 값 항목 삭제\n",
    "* median : 라스트 항목 정렬하기"
   ]
  },
  {
   "cell_type": "code",
   "execution_count": 35,
   "id": "dbf90e46-5011-4282-bed7-10e73bb7cb57",
   "metadata": {},
   "outputs": [
    {
     "name": "stdout",
     "output_type": "stream",
     "text": [
      "arr:\n",
      " [[1 2 3]\n",
      " [4 5 6]]\n",
      "\n",
      "평균:\n",
      " [2. 5.]\n",
      "\n",
      "총합:\n",
      " [5 7 9]\n",
      "\n",
      "분산:\n",
      " [0.66666667 0.66666667]\n",
      "\n",
      "편차:\n",
      " [0.81649658 0.81649658]\n",
      "\n",
      "최대:\n",
      " [4 5 6]\n",
      "\n",
      "최소:\n",
      " [1 4]\n"
     ]
    }
   ],
   "source": [
    "arr = np.array([[1,2,3],[4,5,6]])\n",
    "print('arr:\\n',arr)\n",
    "print('\\n평균:\\n',np.mean(arr,axis=1))\n",
    "print('\\n총합:\\n',np.sum(arr,axis=0))\n",
    "print('\\n분산:\\n',np.var(arr,axis=1))\n",
    "print('\\n편차:\\n',np.std(arr,axis=1))\n",
    "print('\\n최대:\\n',np.max(arr,axis=0))\n",
    "print('\\n최소:\\n',np.min(arr,axis=1))"
   ]
  },
  {
   "cell_type": "code",
   "execution_count": null,
   "id": "736e0cad-d370-4201-a654-dc15fcae49ec",
   "metadata": {},
   "outputs": [],
   "source": []
  }
 ],
 "metadata": {
  "kernelspec": {
   "display_name": "Python 3 (ipykernel)",
   "language": "python",
   "name": "python3"
  },
  "language_info": {
   "codemirror_mode": {
    "name": "ipython",
    "version": 3
   },
   "file_extension": ".py",
   "mimetype": "text/x-python",
   "name": "python",
   "nbconvert_exporter": "python",
   "pygments_lexer": "ipython3",
   "version": "3.12.7"
  }
 },
 "nbformat": 4,
 "nbformat_minor": 5
}
